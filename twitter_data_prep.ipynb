{
 "cells": [
  {
   "cell_type": "markdown",
   "metadata": {},
   "source": [
    "# Create Train/Dev Datasets for BERT Models"
   ]
  },
  {
   "cell_type": "markdown",
   "metadata": {},
   "source": [
    "This notebook takes an input of three training dataset files from the SMM4H Shared Task 2019 containing labeled tweets and creates a train and dev set, split 80/20."
   ]
  },
  {
   "cell_type": "markdown",
   "metadata": {},
   "source": [
    "## Load Data"
   ]
  },
  {
   "cell_type": "code",
   "execution_count": 1,
   "metadata": {},
   "outputs": [],
   "source": [
    "import pandas as pd\n",
    "from sklearn.model_selection import train_test_split\n",
    "\n",
    "prefix = 'data/'"
   ]
  },
  {
   "cell_type": "code",
   "execution_count": 2,
   "metadata": {},
   "outputs": [
    {
     "data": {
      "text/html": [
       "<div>\n",
       "<style scoped>\n",
       "    .dataframe tbody tr th:only-of-type {\n",
       "        vertical-align: middle;\n",
       "    }\n",
       "\n",
       "    .dataframe tbody tr th {\n",
       "        vertical-align: top;\n",
       "    }\n",
       "\n",
       "    .dataframe thead th {\n",
       "        text-align: right;\n",
       "    }\n",
       "</style>\n",
       "<table border=\"1\" class=\"dataframe\">\n",
       "  <thead>\n",
       "    <tr style=\"text-align: right;\">\n",
       "      <th></th>\n",
       "      <th>tweet_id</th>\n",
       "      <th>user_id</th>\n",
       "      <th>label</th>\n",
       "      <th>tweet</th>\n",
       "    </tr>\n",
       "  </thead>\n",
       "  <tbody>\n",
       "    <tr>\n",
       "      <td>0</td>\n",
       "      <td>343909778008973312</td>\n",
       "      <td>464336224</td>\n",
       "      <td>0</td>\n",
       "      <td>i don't fucking need humira</td>\n",
       "    </tr>\n",
       "    <tr>\n",
       "      <td>1</td>\n",
       "      <td>352823276889837570</td>\n",
       "      <td>590337731</td>\n",
       "      <td>0</td>\n",
       "      <td>my retake is next friday, if i bloody fail aga...</td>\n",
       "    </tr>\n",
       "    <tr>\n",
       "      <td>2</td>\n",
       "      <td>339867818843594756</td>\n",
       "      <td>246979971</td>\n",
       "      <td>0</td>\n",
       "      <td>@doctorchristian scared to start fluoxetine, w...</td>\n",
       "    </tr>\n",
       "    <tr>\n",
       "      <td>3</td>\n",
       "      <td>349294537367236611</td>\n",
       "      <td>149749939</td>\n",
       "      <td>0</td>\n",
       "      <td>@intuitivegal1 ok, if you stopped taking the l...</td>\n",
       "    </tr>\n",
       "    <tr>\n",
       "      <td>4</td>\n",
       "      <td>354256195432882177</td>\n",
       "      <td>54516759</td>\n",
       "      <td>0</td>\n",
       "      <td>novartis announces secukinumab (ain457) demons...</td>\n",
       "    </tr>\n",
       "  </tbody>\n",
       "</table>\n",
       "</div>"
      ],
      "text/plain": [
       "             tweet_id    user_id  label  \\\n",
       "0  343909778008973312  464336224      0   \n",
       "1  352823276889837570  590337731      0   \n",
       "2  339867818843594756  246979971      0   \n",
       "3  349294537367236611  149749939      0   \n",
       "4  354256195432882177   54516759      0   \n",
       "\n",
       "                                               tweet  \n",
       "0                        i don't fucking need humira  \n",
       "1  my retake is next friday, if i bloody fail aga...  \n",
       "2  @doctorchristian scared to start fluoxetine, w...  \n",
       "3  @intuitivegal1 ok, if you stopped taking the l...  \n",
       "4  novartis announces secukinumab (ain457) demons...  "
      ]
     },
     "execution_count": 2,
     "metadata": {},
     "output_type": "execute_result"
    }
   ],
   "source": [
    "# load all three files and combine into one DF\n",
    "train1_df = pd.read_csv(prefix + 'training_set_1.tsv', sep=\"\\t\", names = ['tweet_id','user_id','label','tweet'])\n",
    "train2_df = pd.read_csv(prefix + 'training_set_2.tsv', sep=\"\\t\", names = ['tweet_id','user_id','label','tweet'])\n",
    "train3_df = pd.read_csv(prefix + 'training_set_3.tsv', sep=\"\\t\", names = ['tweet_id','user_id','label','tweet'])\n",
    "df = pd.concat([train1_df,train2_df,train3_df],axis=0,sort=False)\n",
    "df.head()"
   ]
  },
  {
   "cell_type": "markdown",
   "metadata": {},
   "source": [
    "## Split into Train/Dev (80/20 split)"
   ]
  },
  {
   "cell_type": "code",
   "execution_count": 3,
   "metadata": {},
   "outputs": [],
   "source": [
    "train_df, dev_df = train_test_split(df, test_size=0.2)"
   ]
  },
  {
   "cell_type": "code",
   "execution_count": 4,
   "metadata": {},
   "outputs": [
    {
     "data": {
      "text/html": [
       "<div>\n",
       "<style scoped>\n",
       "    .dataframe tbody tr th:only-of-type {\n",
       "        vertical-align: middle;\n",
       "    }\n",
       "\n",
       "    .dataframe tbody tr th {\n",
       "        vertical-align: top;\n",
       "    }\n",
       "\n",
       "    .dataframe thead th {\n",
       "        text-align: right;\n",
       "    }\n",
       "</style>\n",
       "<table border=\"1\" class=\"dataframe\">\n",
       "  <thead>\n",
       "    <tr style=\"text-align: right;\">\n",
       "      <th></th>\n",
       "      <th>tweet_id</th>\n",
       "      <th>user_id</th>\n",
       "      <th>label</th>\n",
       "      <th>tweet</th>\n",
       "    </tr>\n",
       "  </thead>\n",
       "  <tbody>\n",
       "    <tr>\n",
       "      <td>3985</td>\n",
       "      <td>339781959465193472</td>\n",
       "      <td>253181726</td>\n",
       "      <td>0</td>\n",
       "      <td>there's not enough prozac in the world to help...</td>\n",
       "    </tr>\n",
       "    <tr>\n",
       "      <td>7713</td>\n",
       "      <td>540744587925811200</td>\n",
       "      <td>551827811</td>\n",
       "      <td>0</td>\n",
       "      <td>a bizarre albuterol aroma and hedonistic marig...</td>\n",
       "    </tr>\n",
       "    <tr>\n",
       "      <td>2879</td>\n",
       "      <td>332542581760204800</td>\n",
       "      <td>75858565</td>\n",
       "      <td>1</td>\n",
       "      <td>@gastromom the only pt of mine who ever died w...</td>\n",
       "    </tr>\n",
       "    <tr>\n",
       "      <td>159</td>\n",
       "      <td>356795624592646144</td>\n",
       "      <td>15285788</td>\n",
       "      <td>0</td>\n",
       "      <td>glenmark confirms patent challenge for its gen...</td>\n",
       "    </tr>\n",
       "    <tr>\n",
       "      <td>133</td>\n",
       "      <td>526289586171817985</td>\n",
       "      <td>2502942848</td>\n",
       "      <td>0</td>\n",
       "      <td>impede marc anthony labor day advair diskus lo...</td>\n",
       "    </tr>\n",
       "  </tbody>\n",
       "</table>\n",
       "</div>"
      ],
      "text/plain": [
       "                tweet_id     user_id  label  \\\n",
       "3985  339781959465193472   253181726      0   \n",
       "7713  540744587925811200   551827811      0   \n",
       "2879  332542581760204800    75858565      1   \n",
       "159   356795624592646144    15285788      0   \n",
       "133   526289586171817985  2502942848      0   \n",
       "\n",
       "                                                  tweet  \n",
       "3985  there's not enough prozac in the world to help...  \n",
       "7713  a bizarre albuterol aroma and hedonistic marig...  \n",
       "2879  @gastromom the only pt of mine who ever died w...  \n",
       "159   glenmark confirms patent challenge for its gen...  \n",
       "133   impede marc anthony labor day advair diskus lo...  "
      ]
     },
     "execution_count": 4,
     "metadata": {},
     "output_type": "execute_result"
    }
   ],
   "source": [
    "dev_df.head()"
   ]
  },
  {
   "cell_type": "markdown",
   "metadata": {},
   "source": [
    "## Convert to format expected by preprocessor"
   ]
  },
  {
   "cell_type": "code",
   "execution_count": 5,
   "metadata": {},
   "outputs": [
    {
     "data": {
      "text/html": [
       "<div>\n",
       "<style scoped>\n",
       "    .dataframe tbody tr th:only-of-type {\n",
       "        vertical-align: middle;\n",
       "    }\n",
       "\n",
       "    .dataframe tbody tr th {\n",
       "        vertical-align: top;\n",
       "    }\n",
       "\n",
       "    .dataframe thead th {\n",
       "        text-align: right;\n",
       "    }\n",
       "</style>\n",
       "<table border=\"1\" class=\"dataframe\">\n",
       "  <thead>\n",
       "    <tr style=\"text-align: right;\">\n",
       "      <th></th>\n",
       "      <th>id</th>\n",
       "      <th>label</th>\n",
       "      <th>text</th>\n",
       "    </tr>\n",
       "  </thead>\n",
       "  <tbody>\n",
       "    <tr>\n",
       "      <td>1171</td>\n",
       "      <td>0</td>\n",
       "      <td>0</td>\n",
       "      <td>@nardsbbq  hey bud! when is boniva again?</td>\n",
       "    </tr>\n",
       "    <tr>\n",
       "      <td>1928</td>\n",
       "      <td>1</td>\n",
       "      <td>0</td>\n",
       "      <td>wrecking everyone in trivia crack right now ca...</td>\n",
       "    </tr>\n",
       "    <tr>\n",
       "      <td>678</td>\n",
       "      <td>2</td>\n",
       "      <td>0</td>\n",
       "      <td>i need a few trazodone and a good nights sleep...</td>\n",
       "    </tr>\n",
       "    <tr>\n",
       "      <td>4371</td>\n",
       "      <td>3</td>\n",
       "      <td>0</td>\n",
       "      <td>@revelwoman so what do you take for the pn??  ...</td>\n",
       "    </tr>\n",
       "    <tr>\n",
       "      <td>2159</td>\n",
       "      <td>4</td>\n",
       "      <td>0</td>\n",
       "      <td>@cthomse i take extavia think it is helping, m...</td>\n",
       "    </tr>\n",
       "  </tbody>\n",
       "</table>\n",
       "</div>"
      ],
      "text/plain": [
       "      id  label                                               text\n",
       "1171   0      0          @nardsbbq  hey bud! when is boniva again?\n",
       "1928   1      0  wrecking everyone in trivia crack right now ca...\n",
       "678    2      0  i need a few trazodone and a good nights sleep...\n",
       "4371   3      0  @revelwoman so what do you take for the pn??  ...\n",
       "2159   4      0  @cthomse i take extavia think it is helping, m..."
      ]
     },
     "execution_count": 5,
     "metadata": {},
     "output_type": "execute_result"
    }
   ],
   "source": [
    "train_df = pd.DataFrame({\n",
    "    'id':range(len(train_df)),\n",
    "    'label':train_df['label'],\n",
    "    'text': train_df['tweet'].replace(r'\\n', ' ', regex=True)\n",
    "})\n",
    "\n",
    "train_df.head()"
   ]
  },
  {
   "cell_type": "code",
   "execution_count": 6,
   "metadata": {},
   "outputs": [
    {
     "data": {
      "text/html": [
       "<div>\n",
       "<style scoped>\n",
       "    .dataframe tbody tr th:only-of-type {\n",
       "        vertical-align: middle;\n",
       "    }\n",
       "\n",
       "    .dataframe tbody tr th {\n",
       "        vertical-align: top;\n",
       "    }\n",
       "\n",
       "    .dataframe thead th {\n",
       "        text-align: right;\n",
       "    }\n",
       "</style>\n",
       "<table border=\"1\" class=\"dataframe\">\n",
       "  <thead>\n",
       "    <tr style=\"text-align: right;\">\n",
       "      <th></th>\n",
       "      <th>id</th>\n",
       "      <th>label</th>\n",
       "      <th>text</th>\n",
       "    </tr>\n",
       "  </thead>\n",
       "  <tbody>\n",
       "    <tr>\n",
       "      <td>3985</td>\n",
       "      <td>0</td>\n",
       "      <td>0</td>\n",
       "      <td>there's not enough prozac in the world to help...</td>\n",
       "    </tr>\n",
       "    <tr>\n",
       "      <td>7713</td>\n",
       "      <td>1</td>\n",
       "      <td>0</td>\n",
       "      <td>a bizarre albuterol aroma and hedonistic marig...</td>\n",
       "    </tr>\n",
       "    <tr>\n",
       "      <td>2879</td>\n",
       "      <td>2</td>\n",
       "      <td>1</td>\n",
       "      <td>@gastromom the only pt of mine who ever died w...</td>\n",
       "    </tr>\n",
       "    <tr>\n",
       "      <td>159</td>\n",
       "      <td>3</td>\n",
       "      <td>0</td>\n",
       "      <td>glenmark confirms patent challenge for its gen...</td>\n",
       "    </tr>\n",
       "    <tr>\n",
       "      <td>133</td>\n",
       "      <td>4</td>\n",
       "      <td>0</td>\n",
       "      <td>impede marc anthony labor day advair diskus lo...</td>\n",
       "    </tr>\n",
       "  </tbody>\n",
       "</table>\n",
       "</div>"
      ],
      "text/plain": [
       "      id  label                                               text\n",
       "3985   0      0  there's not enough prozac in the world to help...\n",
       "7713   1      0  a bizarre albuterol aroma and hedonistic marig...\n",
       "2879   2      1  @gastromom the only pt of mine who ever died w...\n",
       "159    3      0  glenmark confirms patent challenge for its gen...\n",
       "133    4      0  impede marc anthony labor day advair diskus lo..."
      ]
     },
     "execution_count": 6,
     "metadata": {},
     "output_type": "execute_result"
    }
   ],
   "source": [
    "dev_df = pd.DataFrame({\n",
    "    'id':range(len(dev_df)),\n",
    "    'label':dev_df['label'],\n",
    "    'text': dev_df['tweet'].replace(r'\\n', ' ', regex=True)\n",
    "})\n",
    "\n",
    "dev_df.head()"
   ]
  },
  {
   "cell_type": "code",
   "execution_count": 14,
   "metadata": {},
   "outputs": [],
   "source": [
    "train_df.to_csv('data/train.tsv', sep='\\t', index=False, header=False, columns=train_df.columns)\n",
    "dev_df.to_csv('data/dev.tsv', sep='\\t', index=False, header=False, columns=dev_df.columns)"
   ]
  },
  {
   "cell_type": "code",
   "execution_count": null,
   "metadata": {},
   "outputs": [],
   "source": []
  }
 ],
 "metadata": {
  "kernelspec": {
   "display_name": "Python 3",
   "language": "python",
   "name": "python3"
  },
  "language_info": {
   "codemirror_mode": {
    "name": "ipython",
    "version": 3
   },
   "file_extension": ".py",
   "mimetype": "text/x-python",
   "name": "python",
   "nbconvert_exporter": "python",
   "pygments_lexer": "ipython3",
   "version": "3.7.4"
  }
 },
 "nbformat": 4,
 "nbformat_minor": 2
}
