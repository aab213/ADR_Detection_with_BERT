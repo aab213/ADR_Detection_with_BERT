{
 "cells": [
  {
   "cell_type": "code",
   "execution_count": 1,
   "metadata": {},
   "outputs": [],
   "source": [
    "import pandas as pd\n",
    "import numpy as np\n",
    "\n",
    "#view full tweets\n",
    "pd.set_option('display.max_colwidth', -1)"
   ]
  },
  {
   "cell_type": "markdown",
   "metadata": {},
   "source": [
    "## Baseline"
   ]
  },
  {
   "cell_type": "code",
   "execution_count": 9,
   "metadata": {},
   "outputs": [],
   "source": [
    "# original test set\n",
    "test = pd.read_csv('test.tsv', sep=\"\\t\", names = ['tweet_id','user_id','tweet'])\n",
    "\n",
    "# results from Baseline model (Runs 1a-1e)\n",
    "baseline0 = pd.read_csv('Baseline/Run1a_test.tsv', sep=\"\\t\", names = ['column1','run0'], usecols=['run0'])\n",
    "baseline1 = pd.read_csv('Baseline/Run1b_test.tsv', sep=\"\\t\", names = ['column1','run1'], usecols=['run1'])\n",
    "baseline2 = pd.read_csv('Baseline/Run1c_test.tsv', sep=\"\\t\", names = ['column1','run2'], usecols=['run2'])\n",
    "baseline3 = pd.read_csv('Baseline/Run1d_test.tsv', sep=\"\\t\", names = ['column1','run3'], usecols=['run3'])\n",
    "baseline4 = pd.read_csv('Baseline/Run1e_test.tsv', sep=\"\\t\", names = ['column1','run4'], usecols=['run4'])"
   ]
  },
  {
   "cell_type": "code",
   "execution_count": null,
   "metadata": {
    "scrolled": true
   },
   "outputs": [],
   "source": [
    "baseline = pd.concat([test, baseline0, baseline1, baseline2, baseline3, baseline4 ], axis=1)\n",
    "baseline[\"avg_eval\"] = baseline.apply(lambda x: np.mean(x[3:8]),axis=1)\n",
    "baseline['pred'] = np.where(baseline['avg_eval']>=0.5, 1,0)\n",
    "baseline.head(10)"
   ]
  },
  {
   "cell_type": "code",
   "execution_count": 12,
   "metadata": {},
   "outputs": [],
   "source": [
    "baseline.to_csv('baseline_submission.tsv', sep='\\t',columns=['tweet_id','user_id','pred'], header=False, index=False)"
   ]
  },
  {
   "cell_type": "markdown",
   "metadata": {},
   "source": [
    "## BioBERT"
   ]
  },
  {
   "cell_type": "code",
   "execution_count": 2,
   "metadata": {},
   "outputs": [],
   "source": [
    "# original test set\n",
    "test = pd.read_csv('test.tsv', sep=\"\\t\", names = ['tweet_id','user_id','tweet','PP3'])\n",
    "\n",
    "# BioBERT\n",
    "b0 = pd.read_csv('NoPP Submission/bio_a.tsv', sep=\"\\t\", names = ['column1','run0'], usecols=['run0'])\n",
    "b1 = pd.read_csv('NoPP Submission/bio_b.tsv', sep=\"\\t\", names = ['column1','run1'], usecols=['run1'])\n",
    "b2 = pd.read_csv('NoPP Submission/bio_c.tsv', sep=\"\\t\", names = ['column1','run2'], usecols=['run2'])\n",
    "b3 = pd.read_csv('NoPP Submission/bio_d.tsv', sep=\"\\t\", names = ['column1','run3'], usecols=['run3'])\n",
    "b4 = pd.read_csv('NoPP Submission/bio_e.tsv', sep=\"\\t\", names = ['column1','run4'], usecols=['run4'])"
   ]
  },
  {
   "cell_type": "code",
   "execution_count": null,
   "metadata": {
    "scrolled": true
   },
   "outputs": [],
   "source": [
    "b = pd.concat([test, b0, b1, b2, b3, b4 ], axis=1)\n",
    "b[\"avg_eval\"] = b.apply(lambda x: np.mean(x[4:9]),axis=1)\n",
    "b['pred'] = np.where(b['avg_eval']>=0.5, 1, 0)\n",
    "b.head(10)"
   ]
  },
  {
   "cell_type": "code",
   "execution_count": 11,
   "metadata": {},
   "outputs": [],
   "source": [
    "b.to_csv('NoPP Submission/Bio_NoPP/answer.txt', sep='\\t',columns=['tweet_id','user_id','pred'], header=False, index=False)"
   ]
  },
  {
   "cell_type": "markdown",
   "metadata": {},
   "source": [
    "## Clinical BERT"
   ]
  },
  {
   "cell_type": "code",
   "execution_count": 4,
   "metadata": {},
   "outputs": [],
   "source": [
    "# original test set\n",
    "test = pd.read_csv('test.tsv', sep=\"\\t\", names = ['tweet_id','user_id','tweet','PP3'])\n",
    "\n",
    "# BioBERT\n",
    "c0 = pd.read_csv('NoPP Submission/cl_a.tsv', sep=\"\\t\", names = ['column1','run0'], usecols=['run0'])\n",
    "c1 = pd.read_csv('NoPP Submission/cl_b.tsv', sep=\"\\t\", names = ['column1','run1'], usecols=['run1'])\n",
    "c2 = pd.read_csv('NoPP Submission/cl_c.tsv', sep=\"\\t\", names = ['column1','run2'], usecols=['run2'])\n",
    "c3 = pd.read_csv('NoPP Submission/cl_d.tsv', sep=\"\\t\", names = ['column1','run3'], usecols=['run3'])\n",
    "c4 = pd.read_csv('NoPP Submission/cl_e.tsv', sep=\"\\t\", names = ['column1','run4'], usecols=['run4'])"
   ]
  },
  {
   "cell_type": "code",
   "execution_count": null,
   "metadata": {},
   "outputs": [],
   "source": [
    "c = pd.concat([test, c0, c1, c2, c3, c4 ], axis=1)\n",
    "c[\"avg_eval\"] = c.apply(lambda x: np.mean(x[4:9]),axis=1)\n",
    "c['pred'] = np.where(c['avg_eval']>=0.5, 1, 0)\n",
    "c.head(10)"
   ]
  },
  {
   "cell_type": "code",
   "execution_count": 8,
   "metadata": {},
   "outputs": [],
   "source": [
    "c.to_csv('NoPP Submission/Clinical_NoPP/answer.txt', sep='\\t',columns=['tweet_id','user_id','pred'], header=False, index=False)"
   ]
  },
  {
   "cell_type": "markdown",
   "metadata": {},
   "source": [
    "## BERT"
   ]
  },
  {
   "cell_type": "code",
   "execution_count": 6,
   "metadata": {},
   "outputs": [],
   "source": [
    "# original test set\n",
    "test = pd.read_csv('test.tsv', sep=\"\\t\", names = ['tweet_id','user_id','tweet','PP3'])\n",
    "\n",
    "# BERT NoPP\n",
    "bert0 = pd.read_csv('NoPP Submission/b_a.tsv', sep=\"\\t\", names = ['column1','run0'], usecols=['run0'])\n",
    "bert1 = pd.read_csv('NoPP Submission/b_b.tsv', sep=\"\\t\", names = ['column1','run1'], usecols=['run1'])\n",
    "bert2 = pd.read_csv('NoPP Submission/b_c.tsv', sep=\"\\t\", names = ['column1','run2'], usecols=['run2'])\n",
    "bert3 = pd.read_csv('NoPP Submission/b_d.tsv', sep=\"\\t\", names = ['column1','run3'], usecols=['run3'])\n",
    "bert4 = pd.read_csv('NoPP Submission/b_e.tsv', sep=\"\\t\", names = ['column1','run4'], usecols=['run4'])"
   ]
  },
  {
   "cell_type": "code",
   "execution_count": null,
   "metadata": {},
   "outputs": [],
   "source": [
    "bert = pd.concat([test, bert0, bert1, bert2, bert3, bert4 ], axis=1)\n",
    "bert[\"avg_eval\"] = bert.apply(lambda x: np.mean(x[4:9]),axis=1)\n",
    "bert['pred'] = np.where(bert['avg_eval']>=0.5, 1, 0)\n",
    "bert.head(10)"
   ]
  },
  {
   "cell_type": "code",
   "execution_count": 14,
   "metadata": {},
   "outputs": [],
   "source": [
    "bert.to_csv('NoPP Submission/BERT_NoPP/answer.txt', sep='\\t',columns=['tweet_id','user_id','pred'], header=False, index=False)"
   ]
  },
  {
   "cell_type": "markdown",
   "metadata": {},
   "source": [
    "## NoPP Ensemble"
   ]
  },
  {
   "cell_type": "code",
   "execution_count": 8,
   "metadata": {},
   "outputs": [],
   "source": [
    "nopp = test.copy()\n",
    "nopp['bert'] = bert.pred\n",
    "nopp['bio'] = b.pred\n",
    "nopp['clin'] = c.pred\n",
    "\n",
    "nopp['pred'] = [max(nopp.bert[x], nopp.bio[x], nopp.clin[x]) for x in range(0,nopp.shape[0])]"
   ]
  },
  {
   "cell_type": "code",
   "execution_count": 10,
   "metadata": {},
   "outputs": [],
   "source": [
    "nopp.to_csv('NoPP Submission/Ensemble_NoPP/answer.txt', sep='\\t',columns=['tweet_id','user_id','pred'], header=False, index=False)"
   ]
  },
  {
   "cell_type": "code",
   "execution_count": null,
   "metadata": {},
   "outputs": [],
   "source": []
  }
 ],
 "metadata": {
  "kernelspec": {
   "display_name": "Python 3",
   "language": "python",
   "name": "python3"
  },
  "language_info": {
   "codemirror_mode": {
    "name": "ipython",
    "version": 3
   },
   "file_extension": ".py",
   "mimetype": "text/x-python",
   "name": "python",
   "nbconvert_exporter": "python",
   "pygments_lexer": "ipython3",
   "version": "3.7.4"
  }
 },
 "nbformat": 4,
 "nbformat_minor": 2
}
